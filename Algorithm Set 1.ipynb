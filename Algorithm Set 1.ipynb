{
  "nbformat": 4,
  "nbformat_minor": 0,
  "metadata": {
    "colab": {
      "provenance": []
    },
    "kernelspec": {
      "name": "python3",
      "display_name": "Python 3"
    },
    "language_info": {
      "name": "python"
    }
  },
  "cells": [
    {
      "cell_type": "code",
      "execution_count": null,
      "metadata": {
        "colab": {
          "base_uri": "https://localhost:8080/"
        },
        "id": "4X3pYQsaCNAE",
        "outputId": "c5d7bdc3-ddbf-4d29-be27-df8214e4c860"
      },
      "outputs": [
        {
          "output_type": "stream",
          "name": "stdout",
          "text": [
            "Mounted at /content/drive\n"
          ]
        }
      ],
      "source": [
        "from google.colab import drive\n",
        "drive.mount('/content/drive')"
      ]
    },
    {
      "cell_type": "code",
      "source": [
        "import pandas as pd\n",
        "df=pd.read_csv('/content/drive/MyDrive/Dataset /1429_1.csv')"
      ],
      "metadata": {
        "colab": {
          "base_uri": "https://localhost:8080/"
        },
        "id": "0VMLnKgICgLY",
        "outputId": "e28deda9-1441-41e7-c065-e108b687349d"
      },
      "execution_count": null,
      "outputs": [
        {
          "output_type": "stream",
          "name": "stderr",
          "text": [
            "/usr/local/lib/python3.7/dist-packages/IPython/core/interactiveshell.py:2882: DtypeWarning: Columns (1,10) have mixed types.Specify dtype option on import or set low_memory=False.\n",
            "  exec(code_obj, self.user_global_ns, self.user_ns)\n"
          ]
        }
      ]
    },
    {
      "cell_type": "code",
      "source": [
        "df"
      ],
      "metadata": {
        "colab": {
          "base_uri": "https://localhost:8080/",
          "height": 1000
        },
        "id": "52M7GiPwC0MC",
        "outputId": "7374f4a8-2812-452e-f280-8e39550f7c04"
      },
      "execution_count": null,
      "outputs": [
        {
          "output_type": "execute_result",
          "data": {
            "text/plain": [
              "                         id  \\\n",
              "0      AVqkIhwDv8e3D1O-lebb   \n",
              "1      AVqkIhwDv8e3D1O-lebb   \n",
              "2      AVqkIhwDv8e3D1O-lebb   \n",
              "3      AVqkIhwDv8e3D1O-lebb   \n",
              "4      AVqkIhwDv8e3D1O-lebb   \n",
              "...                     ...   \n",
              "34655  AVpfiBlyLJeJML43-4Tp   \n",
              "34656  AVpfiBlyLJeJML43-4Tp   \n",
              "34657  AVpfiBlyLJeJML43-4Tp   \n",
              "34658  AVpfiBlyLJeJML43-4Tp   \n",
              "34659  AVpfiBlyLJeJML43-4Tp   \n",
              "\n",
              "                                                    name       asins   brand  \\\n",
              "0      All-New Fire HD 8 Tablet, 8 HD Display, Wi-Fi,...  B01AHB9CN2  Amazon   \n",
              "1      All-New Fire HD 8 Tablet, 8 HD Display, Wi-Fi,...  B01AHB9CN2  Amazon   \n",
              "2      All-New Fire HD 8 Tablet, 8 HD Display, Wi-Fi,...  B01AHB9CN2  Amazon   \n",
              "3      All-New Fire HD 8 Tablet, 8 HD Display, Wi-Fi,...  B01AHB9CN2  Amazon   \n",
              "4      All-New Fire HD 8 Tablet, 8 HD Display, Wi-Fi,...  B01AHB9CN2  Amazon   \n",
              "...                                                  ...         ...     ...   \n",
              "34655                                                NaN  B006GWO5WK  Amazon   \n",
              "34656                                                NaN  B006GWO5WK  Amazon   \n",
              "34657                                                NaN  B006GWO5WK  Amazon   \n",
              "34658                                                NaN  B006GWO5WK  Amazon   \n",
              "34659                                                NaN  B006GWO5WK  Amazon   \n",
              "\n",
              "                                              categories  \\\n",
              "0      Electronics,iPad & Tablets,All Tablets,Fire Ta...   \n",
              "1      Electronics,iPad & Tablets,All Tablets,Fire Ta...   \n",
              "2      Electronics,iPad & Tablets,All Tablets,Fire Ta...   \n",
              "3      Electronics,iPad & Tablets,All Tablets,Fire Ta...   \n",
              "4      Electronics,iPad & Tablets,All Tablets,Fire Ta...   \n",
              "...                                                  ...   \n",
              "34655  Computers/Tablets & Networking,Tablet & eBook ...   \n",
              "34656  Computers/Tablets & Networking,Tablet & eBook ...   \n",
              "34657  Computers/Tablets & Networking,Tablet & eBook ...   \n",
              "34658  Computers/Tablets & Networking,Tablet & eBook ...   \n",
              "34659  Computers/Tablets & Networking,Tablet & eBook ...   \n",
              "\n",
              "                                                    keys  \\\n",
              "0      841667104676,amazon/53004484,amazon/b01ahb9cn2...   \n",
              "1      841667104676,amazon/53004484,amazon/b01ahb9cn2...   \n",
              "2      841667104676,amazon/53004484,amazon/b01ahb9cn2...   \n",
              "3      841667104676,amazon/53004484,amazon/b01ahb9cn2...   \n",
              "4      841667104676,amazon/53004484,amazon/b01ahb9cn2...   \n",
              "...                                                  ...   \n",
              "34655  newamazonkindlefirehd9wpowerfastadaptercharger...   \n",
              "34656  newamazonkindlefirehd9wpowerfastadaptercharger...   \n",
              "34657  newamazonkindlefirehd9wpowerfastadaptercharger...   \n",
              "34658  newamazonkindlefirehd9wpowerfastadaptercharger...   \n",
              "34659  newamazonkindlefirehd9wpowerfastadaptercharger...   \n",
              "\n",
              "                       manufacturer              reviews.date  \\\n",
              "0                            Amazon  2017-01-13T00:00:00.000Z   \n",
              "1                            Amazon  2017-01-13T00:00:00.000Z   \n",
              "2                            Amazon  2017-01-13T00:00:00.000Z   \n",
              "3                            Amazon  2017-01-13T00:00:00.000Z   \n",
              "4                            Amazon  2017-01-12T00:00:00.000Z   \n",
              "...                             ...                       ...   \n",
              "34655  Amazon Digital Services, Inc      2012-09-18T00:00:00Z   \n",
              "34656  Amazon Digital Services, Inc      2012-11-21T00:00:00Z   \n",
              "34657  Amazon Digital Services, Inc      2012-10-19T00:00:00Z   \n",
              "34658  Amazon Digital Services, Inc      2012-10-31T00:00:00Z   \n",
              "34659  Amazon Digital Services, Inc      2012-12-23T00:00:00Z   \n",
              "\n",
              "          reviews.dateAdded  \\\n",
              "0      2017-07-03T23:33:15Z   \n",
              "1      2017-07-03T23:33:15Z   \n",
              "2      2017-07-03T23:33:15Z   \n",
              "3      2017-07-03T23:33:15Z   \n",
              "4      2017-07-03T23:33:15Z   \n",
              "...                     ...   \n",
              "34655                   NaN   \n",
              "34656                   NaN   \n",
              "34657                   NaN   \n",
              "34658                   NaN   \n",
              "34659                   NaN   \n",
              "\n",
              "                                        reviews.dateSeen  ...  \\\n",
              "0      2017-06-07T09:04:00.000Z,2017-04-30T00:45:00.000Z  ...   \n",
              "1      2017-06-07T09:04:00.000Z,2017-04-30T00:45:00.000Z  ...   \n",
              "2      2017-06-07T09:04:00.000Z,2017-04-30T00:45:00.000Z  ...   \n",
              "3      2017-06-07T09:04:00.000Z,2017-04-30T00:45:00.000Z  ...   \n",
              "4      2017-06-07T09:04:00.000Z,2017-04-30T00:45:00.000Z  ...   \n",
              "...                                                  ...  ...   \n",
              "34655                               2015-08-29T00:00:00Z  ...   \n",
              "34656                               2015-09-02T00:00:00Z  ...   \n",
              "34657                               2015-09-04T00:00:00Z  ...   \n",
              "34658                               2015-09-01T00:00:00Z  ...   \n",
              "34659                               2015-11-01T00:00:00Z  ...   \n",
              "\n",
              "      reviews.doRecommend reviews.id  reviews.numHelpful  reviews.rating  \\\n",
              "0                    True        NaN                 0.0             5.0   \n",
              "1                    True        NaN                 0.0             5.0   \n",
              "2                    True        NaN                 0.0             5.0   \n",
              "3                    True        NaN                 0.0             4.0   \n",
              "4                    True        NaN                 0.0             5.0   \n",
              "...                   ...        ...                 ...             ...   \n",
              "34655                 NaN        NaN                 NaN             3.0   \n",
              "34656                 NaN        NaN                 NaN             1.0   \n",
              "34657                 NaN        NaN                 NaN             1.0   \n",
              "34658                 NaN        NaN                 NaN             1.0   \n",
              "34659                 NaN        NaN                 NaN             1.0   \n",
              "\n",
              "                                      reviews.sourceURLs  \\\n",
              "0      http://reviews.bestbuy.com/3545/5620406/review...   \n",
              "1      http://reviews.bestbuy.com/3545/5620406/review...   \n",
              "2      http://reviews.bestbuy.com/3545/5620406/review...   \n",
              "3      http://reviews.bestbuy.com/3545/5620406/review...   \n",
              "4      http://reviews.bestbuy.com/3545/5620406/review...   \n",
              "...                                                  ...   \n",
              "34655  http://www.amazon.com/Amazon-PowerFast-Adapter...   \n",
              "34656  http://www.amazon.com/Amazon-PowerFast-Adapter...   \n",
              "34657  http://www.amazon.com/Amazon-PowerFast-Adapter...   \n",
              "34658  http://www.amazon.com/Amazon-PowerFast-Adapter...   \n",
              "34659  http://www.amazon.com/Amazon-PowerFast-Adapter...   \n",
              "\n",
              "                                            reviews.text  \\\n",
              "0      This product so far has not disappointed. My c...   \n",
              "1      great for beginner or experienced person. Boug...   \n",
              "2      Inexpensive tablet for him to use and learn on...   \n",
              "3      I've had my Fire HD 8 two weeks now and I love...   \n",
              "4      I bought this for my grand daughter when she c...   \n",
              "...                                                  ...   \n",
              "34655  This is not appreciably faster than any other ...   \n",
              "34656  Amazon should include this charger with the Ki...   \n",
              "34657  Love my Kindle Fire but I am really disappoint...   \n",
              "34658  I was surprised to find it did not come with a...   \n",
              "34659  to spite the fact that i have nothing but good...   \n",
              "\n",
              "                                           reviews.title reviews.userCity  \\\n",
              "0                                                 Kindle              NaN   \n",
              "1                                              very fast              NaN   \n",
              "2                Beginner tablet for our 9 year old son.              NaN   \n",
              "3                                                Good!!!              NaN   \n",
              "4                              Fantastic Tablet for kids              NaN   \n",
              "...                                                  ...              ...   \n",
              "34655  Not appreciably faster than any other 1.8A cha...              NaN   \n",
              "34656                                 Should be included              NaN   \n",
              "34657                              Disappointing Charger              NaN   \n",
              "34658                                Not worth the money              NaN   \n",
              "34659                              as with everyone else              NaN   \n",
              "\n",
              "       reviews.userProvince  reviews.username  \n",
              "0                       NaN           Adapter  \n",
              "1                       NaN            truman  \n",
              "2                       NaN             DaveZ  \n",
              "3                       NaN            Shacks  \n",
              "4                       NaN         explore42  \n",
              "...                     ...               ...  \n",
              "34655                   NaN              Kris  \n",
              "34656                   NaN  Jonathan Stewart  \n",
              "34657                   NaN          J Lawson  \n",
              "34658                   NaN    Just the Buyer  \n",
              "34659                   NaN             sandi  \n",
              "\n",
              "[34660 rows x 21 columns]"
            ],
            "text/html": [
              "\n",
              "  <div id=\"df-ead8826a-d4a9-4162-868f-5fddba2d2e9b\">\n",
              "    <div class=\"colab-df-container\">\n",
              "      <div>\n",
              "<style scoped>\n",
              "    .dataframe tbody tr th:only-of-type {\n",
              "        vertical-align: middle;\n",
              "    }\n",
              "\n",
              "    .dataframe tbody tr th {\n",
              "        vertical-align: top;\n",
              "    }\n",
              "\n",
              "    .dataframe thead th {\n",
              "        text-align: right;\n",
              "    }\n",
              "</style>\n",
              "<table border=\"1\" class=\"dataframe\">\n",
              "  <thead>\n",
              "    <tr style=\"text-align: right;\">\n",
              "      <th></th>\n",
              "      <th>id</th>\n",
              "      <th>name</th>\n",
              "      <th>asins</th>\n",
              "      <th>brand</th>\n",
              "      <th>categories</th>\n",
              "      <th>keys</th>\n",
              "      <th>manufacturer</th>\n",
              "      <th>reviews.date</th>\n",
              "      <th>reviews.dateAdded</th>\n",
              "      <th>reviews.dateSeen</th>\n",
              "      <th>...</th>\n",
              "      <th>reviews.doRecommend</th>\n",
              "      <th>reviews.id</th>\n",
              "      <th>reviews.numHelpful</th>\n",
              "      <th>reviews.rating</th>\n",
              "      <th>reviews.sourceURLs</th>\n",
              "      <th>reviews.text</th>\n",
              "      <th>reviews.title</th>\n",
              "      <th>reviews.userCity</th>\n",
              "      <th>reviews.userProvince</th>\n",
              "      <th>reviews.username</th>\n",
              "    </tr>\n",
              "  </thead>\n",
              "  <tbody>\n",
              "    <tr>\n",
              "      <th>0</th>\n",
              "      <td>AVqkIhwDv8e3D1O-lebb</td>\n",
              "      <td>All-New Fire HD 8 Tablet, 8 HD Display, Wi-Fi,...</td>\n",
              "      <td>B01AHB9CN2</td>\n",
              "      <td>Amazon</td>\n",
              "      <td>Electronics,iPad &amp; Tablets,All Tablets,Fire Ta...</td>\n",
              "      <td>841667104676,amazon/53004484,amazon/b01ahb9cn2...</td>\n",
              "      <td>Amazon</td>\n",
              "      <td>2017-01-13T00:00:00.000Z</td>\n",
              "      <td>2017-07-03T23:33:15Z</td>\n",
              "      <td>2017-06-07T09:04:00.000Z,2017-04-30T00:45:00.000Z</td>\n",
              "      <td>...</td>\n",
              "      <td>True</td>\n",
              "      <td>NaN</td>\n",
              "      <td>0.0</td>\n",
              "      <td>5.0</td>\n",
              "      <td>http://reviews.bestbuy.com/3545/5620406/review...</td>\n",
              "      <td>This product so far has not disappointed. My c...</td>\n",
              "      <td>Kindle</td>\n",
              "      <td>NaN</td>\n",
              "      <td>NaN</td>\n",
              "      <td>Adapter</td>\n",
              "    </tr>\n",
              "    <tr>\n",
              "      <th>1</th>\n",
              "      <td>AVqkIhwDv8e3D1O-lebb</td>\n",
              "      <td>All-New Fire HD 8 Tablet, 8 HD Display, Wi-Fi,...</td>\n",
              "      <td>B01AHB9CN2</td>\n",
              "      <td>Amazon</td>\n",
              "      <td>Electronics,iPad &amp; Tablets,All Tablets,Fire Ta...</td>\n",
              "      <td>841667104676,amazon/53004484,amazon/b01ahb9cn2...</td>\n",
              "      <td>Amazon</td>\n",
              "      <td>2017-01-13T00:00:00.000Z</td>\n",
              "      <td>2017-07-03T23:33:15Z</td>\n",
              "      <td>2017-06-07T09:04:00.000Z,2017-04-30T00:45:00.000Z</td>\n",
              "      <td>...</td>\n",
              "      <td>True</td>\n",
              "      <td>NaN</td>\n",
              "      <td>0.0</td>\n",
              "      <td>5.0</td>\n",
              "      <td>http://reviews.bestbuy.com/3545/5620406/review...</td>\n",
              "      <td>great for beginner or experienced person. Boug...</td>\n",
              "      <td>very fast</td>\n",
              "      <td>NaN</td>\n",
              "      <td>NaN</td>\n",
              "      <td>truman</td>\n",
              "    </tr>\n",
              "    <tr>\n",
              "      <th>2</th>\n",
              "      <td>AVqkIhwDv8e3D1O-lebb</td>\n",
              "      <td>All-New Fire HD 8 Tablet, 8 HD Display, Wi-Fi,...</td>\n",
              "      <td>B01AHB9CN2</td>\n",
              "      <td>Amazon</td>\n",
              "      <td>Electronics,iPad &amp; Tablets,All Tablets,Fire Ta...</td>\n",
              "      <td>841667104676,amazon/53004484,amazon/b01ahb9cn2...</td>\n",
              "      <td>Amazon</td>\n",
              "      <td>2017-01-13T00:00:00.000Z</td>\n",
              "      <td>2017-07-03T23:33:15Z</td>\n",
              "      <td>2017-06-07T09:04:00.000Z,2017-04-30T00:45:00.000Z</td>\n",
              "      <td>...</td>\n",
              "      <td>True</td>\n",
              "      <td>NaN</td>\n",
              "      <td>0.0</td>\n",
              "      <td>5.0</td>\n",
              "      <td>http://reviews.bestbuy.com/3545/5620406/review...</td>\n",
              "      <td>Inexpensive tablet for him to use and learn on...</td>\n",
              "      <td>Beginner tablet for our 9 year old son.</td>\n",
              "      <td>NaN</td>\n",
              "      <td>NaN</td>\n",
              "      <td>DaveZ</td>\n",
              "    </tr>\n",
              "    <tr>\n",
              "      <th>3</th>\n",
              "      <td>AVqkIhwDv8e3D1O-lebb</td>\n",
              "      <td>All-New Fire HD 8 Tablet, 8 HD Display, Wi-Fi,...</td>\n",
              "      <td>B01AHB9CN2</td>\n",
              "      <td>Amazon</td>\n",
              "      <td>Electronics,iPad &amp; Tablets,All Tablets,Fire Ta...</td>\n",
              "      <td>841667104676,amazon/53004484,amazon/b01ahb9cn2...</td>\n",
              "      <td>Amazon</td>\n",
              "      <td>2017-01-13T00:00:00.000Z</td>\n",
              "      <td>2017-07-03T23:33:15Z</td>\n",
              "      <td>2017-06-07T09:04:00.000Z,2017-04-30T00:45:00.000Z</td>\n",
              "      <td>...</td>\n",
              "      <td>True</td>\n",
              "      <td>NaN</td>\n",
              "      <td>0.0</td>\n",
              "      <td>4.0</td>\n",
              "      <td>http://reviews.bestbuy.com/3545/5620406/review...</td>\n",
              "      <td>I've had my Fire HD 8 two weeks now and I love...</td>\n",
              "      <td>Good!!!</td>\n",
              "      <td>NaN</td>\n",
              "      <td>NaN</td>\n",
              "      <td>Shacks</td>\n",
              "    </tr>\n",
              "    <tr>\n",
              "      <th>4</th>\n",
              "      <td>AVqkIhwDv8e3D1O-lebb</td>\n",
              "      <td>All-New Fire HD 8 Tablet, 8 HD Display, Wi-Fi,...</td>\n",
              "      <td>B01AHB9CN2</td>\n",
              "      <td>Amazon</td>\n",
              "      <td>Electronics,iPad &amp; Tablets,All Tablets,Fire Ta...</td>\n",
              "      <td>841667104676,amazon/53004484,amazon/b01ahb9cn2...</td>\n",
              "      <td>Amazon</td>\n",
              "      <td>2017-01-12T00:00:00.000Z</td>\n",
              "      <td>2017-07-03T23:33:15Z</td>\n",
              "      <td>2017-06-07T09:04:00.000Z,2017-04-30T00:45:00.000Z</td>\n",
              "      <td>...</td>\n",
              "      <td>True</td>\n",
              "      <td>NaN</td>\n",
              "      <td>0.0</td>\n",
              "      <td>5.0</td>\n",
              "      <td>http://reviews.bestbuy.com/3545/5620406/review...</td>\n",
              "      <td>I bought this for my grand daughter when she c...</td>\n",
              "      <td>Fantastic Tablet for kids</td>\n",
              "      <td>NaN</td>\n",
              "      <td>NaN</td>\n",
              "      <td>explore42</td>\n",
              "    </tr>\n",
              "    <tr>\n",
              "      <th>...</th>\n",
              "      <td>...</td>\n",
              "      <td>...</td>\n",
              "      <td>...</td>\n",
              "      <td>...</td>\n",
              "      <td>...</td>\n",
              "      <td>...</td>\n",
              "      <td>...</td>\n",
              "      <td>...</td>\n",
              "      <td>...</td>\n",
              "      <td>...</td>\n",
              "      <td>...</td>\n",
              "      <td>...</td>\n",
              "      <td>...</td>\n",
              "      <td>...</td>\n",
              "      <td>...</td>\n",
              "      <td>...</td>\n",
              "      <td>...</td>\n",
              "      <td>...</td>\n",
              "      <td>...</td>\n",
              "      <td>...</td>\n",
              "      <td>...</td>\n",
              "    </tr>\n",
              "    <tr>\n",
              "      <th>34655</th>\n",
              "      <td>AVpfiBlyLJeJML43-4Tp</td>\n",
              "      <td>NaN</td>\n",
              "      <td>B006GWO5WK</td>\n",
              "      <td>Amazon</td>\n",
              "      <td>Computers/Tablets &amp; Networking,Tablet &amp; eBook ...</td>\n",
              "      <td>newamazonkindlefirehd9wpowerfastadaptercharger...</td>\n",
              "      <td>Amazon Digital Services, Inc</td>\n",
              "      <td>2012-09-18T00:00:00Z</td>\n",
              "      <td>NaN</td>\n",
              "      <td>2015-08-29T00:00:00Z</td>\n",
              "      <td>...</td>\n",
              "      <td>NaN</td>\n",
              "      <td>NaN</td>\n",
              "      <td>NaN</td>\n",
              "      <td>3.0</td>\n",
              "      <td>http://www.amazon.com/Amazon-PowerFast-Adapter...</td>\n",
              "      <td>This is not appreciably faster than any other ...</td>\n",
              "      <td>Not appreciably faster than any other 1.8A cha...</td>\n",
              "      <td>NaN</td>\n",
              "      <td>NaN</td>\n",
              "      <td>Kris</td>\n",
              "    </tr>\n",
              "    <tr>\n",
              "      <th>34656</th>\n",
              "      <td>AVpfiBlyLJeJML43-4Tp</td>\n",
              "      <td>NaN</td>\n",
              "      <td>B006GWO5WK</td>\n",
              "      <td>Amazon</td>\n",
              "      <td>Computers/Tablets &amp; Networking,Tablet &amp; eBook ...</td>\n",
              "      <td>newamazonkindlefirehd9wpowerfastadaptercharger...</td>\n",
              "      <td>Amazon Digital Services, Inc</td>\n",
              "      <td>2012-11-21T00:00:00Z</td>\n",
              "      <td>NaN</td>\n",
              "      <td>2015-09-02T00:00:00Z</td>\n",
              "      <td>...</td>\n",
              "      <td>NaN</td>\n",
              "      <td>NaN</td>\n",
              "      <td>NaN</td>\n",
              "      <td>1.0</td>\n",
              "      <td>http://www.amazon.com/Amazon-PowerFast-Adapter...</td>\n",
              "      <td>Amazon should include this charger with the Ki...</td>\n",
              "      <td>Should be included</td>\n",
              "      <td>NaN</td>\n",
              "      <td>NaN</td>\n",
              "      <td>Jonathan Stewart</td>\n",
              "    </tr>\n",
              "    <tr>\n",
              "      <th>34657</th>\n",
              "      <td>AVpfiBlyLJeJML43-4Tp</td>\n",
              "      <td>NaN</td>\n",
              "      <td>B006GWO5WK</td>\n",
              "      <td>Amazon</td>\n",
              "      <td>Computers/Tablets &amp; Networking,Tablet &amp; eBook ...</td>\n",
              "      <td>newamazonkindlefirehd9wpowerfastadaptercharger...</td>\n",
              "      <td>Amazon Digital Services, Inc</td>\n",
              "      <td>2012-10-19T00:00:00Z</td>\n",
              "      <td>NaN</td>\n",
              "      <td>2015-09-04T00:00:00Z</td>\n",
              "      <td>...</td>\n",
              "      <td>NaN</td>\n",
              "      <td>NaN</td>\n",
              "      <td>NaN</td>\n",
              "      <td>1.0</td>\n",
              "      <td>http://www.amazon.com/Amazon-PowerFast-Adapter...</td>\n",
              "      <td>Love my Kindle Fire but I am really disappoint...</td>\n",
              "      <td>Disappointing Charger</td>\n",
              "      <td>NaN</td>\n",
              "      <td>NaN</td>\n",
              "      <td>J Lawson</td>\n",
              "    </tr>\n",
              "    <tr>\n",
              "      <th>34658</th>\n",
              "      <td>AVpfiBlyLJeJML43-4Tp</td>\n",
              "      <td>NaN</td>\n",
              "      <td>B006GWO5WK</td>\n",
              "      <td>Amazon</td>\n",
              "      <td>Computers/Tablets &amp; Networking,Tablet &amp; eBook ...</td>\n",
              "      <td>newamazonkindlefirehd9wpowerfastadaptercharger...</td>\n",
              "      <td>Amazon Digital Services, Inc</td>\n",
              "      <td>2012-10-31T00:00:00Z</td>\n",
              "      <td>NaN</td>\n",
              "      <td>2015-09-01T00:00:00Z</td>\n",
              "      <td>...</td>\n",
              "      <td>NaN</td>\n",
              "      <td>NaN</td>\n",
              "      <td>NaN</td>\n",
              "      <td>1.0</td>\n",
              "      <td>http://www.amazon.com/Amazon-PowerFast-Adapter...</td>\n",
              "      <td>I was surprised to find it did not come with a...</td>\n",
              "      <td>Not worth the money</td>\n",
              "      <td>NaN</td>\n",
              "      <td>NaN</td>\n",
              "      <td>Just the Buyer</td>\n",
              "    </tr>\n",
              "    <tr>\n",
              "      <th>34659</th>\n",
              "      <td>AVpfiBlyLJeJML43-4Tp</td>\n",
              "      <td>NaN</td>\n",
              "      <td>B006GWO5WK</td>\n",
              "      <td>Amazon</td>\n",
              "      <td>Computers/Tablets &amp; Networking,Tablet &amp; eBook ...</td>\n",
              "      <td>newamazonkindlefirehd9wpowerfastadaptercharger...</td>\n",
              "      <td>Amazon Digital Services, Inc</td>\n",
              "      <td>2012-12-23T00:00:00Z</td>\n",
              "      <td>NaN</td>\n",
              "      <td>2015-11-01T00:00:00Z</td>\n",
              "      <td>...</td>\n",
              "      <td>NaN</td>\n",
              "      <td>NaN</td>\n",
              "      <td>NaN</td>\n",
              "      <td>1.0</td>\n",
              "      <td>http://www.amazon.com/Amazon-PowerFast-Adapter...</td>\n",
              "      <td>to spite the fact that i have nothing but good...</td>\n",
              "      <td>as with everyone else</td>\n",
              "      <td>NaN</td>\n",
              "      <td>NaN</td>\n",
              "      <td>sandi</td>\n",
              "    </tr>\n",
              "  </tbody>\n",
              "</table>\n",
              "<p>34660 rows × 21 columns</p>\n",
              "</div>\n",
              "      <button class=\"colab-df-convert\" onclick=\"convertToInteractive('df-ead8826a-d4a9-4162-868f-5fddba2d2e9b')\"\n",
              "              title=\"Convert this dataframe to an interactive table.\"\n",
              "              style=\"display:none;\">\n",
              "        \n",
              "  <svg xmlns=\"http://www.w3.org/2000/svg\" height=\"24px\"viewBox=\"0 0 24 24\"\n",
              "       width=\"24px\">\n",
              "    <path d=\"M0 0h24v24H0V0z\" fill=\"none\"/>\n",
              "    <path d=\"M18.56 5.44l.94 2.06.94-2.06 2.06-.94-2.06-.94-.94-2.06-.94 2.06-2.06.94zm-11 1L8.5 8.5l.94-2.06 2.06-.94-2.06-.94L8.5 2.5l-.94 2.06-2.06.94zm10 10l.94 2.06.94-2.06 2.06-.94-2.06-.94-.94-2.06-.94 2.06-2.06.94z\"/><path d=\"M17.41 7.96l-1.37-1.37c-.4-.4-.92-.59-1.43-.59-.52 0-1.04.2-1.43.59L10.3 9.45l-7.72 7.72c-.78.78-.78 2.05 0 2.83L4 21.41c.39.39.9.59 1.41.59.51 0 1.02-.2 1.41-.59l7.78-7.78 2.81-2.81c.8-.78.8-2.07 0-2.86zM5.41 20L4 18.59l7.72-7.72 1.47 1.35L5.41 20z\"/>\n",
              "  </svg>\n",
              "      </button>\n",
              "      \n",
              "  <style>\n",
              "    .colab-df-container {\n",
              "      display:flex;\n",
              "      flex-wrap:wrap;\n",
              "      gap: 12px;\n",
              "    }\n",
              "\n",
              "    .colab-df-convert {\n",
              "      background-color: #E8F0FE;\n",
              "      border: none;\n",
              "      border-radius: 50%;\n",
              "      cursor: pointer;\n",
              "      display: none;\n",
              "      fill: #1967D2;\n",
              "      height: 32px;\n",
              "      padding: 0 0 0 0;\n",
              "      width: 32px;\n",
              "    }\n",
              "\n",
              "    .colab-df-convert:hover {\n",
              "      background-color: #E2EBFA;\n",
              "      box-shadow: 0px 1px 2px rgba(60, 64, 67, 0.3), 0px 1px 3px 1px rgba(60, 64, 67, 0.15);\n",
              "      fill: #174EA6;\n",
              "    }\n",
              "\n",
              "    [theme=dark] .colab-df-convert {\n",
              "      background-color: #3B4455;\n",
              "      fill: #D2E3FC;\n",
              "    }\n",
              "\n",
              "    [theme=dark] .colab-df-convert:hover {\n",
              "      background-color: #434B5C;\n",
              "      box-shadow: 0px 1px 3px 1px rgba(0, 0, 0, 0.15);\n",
              "      filter: drop-shadow(0px 1px 2px rgba(0, 0, 0, 0.3));\n",
              "      fill: #FFFFFF;\n",
              "    }\n",
              "  </style>\n",
              "\n",
              "      <script>\n",
              "        const buttonEl =\n",
              "          document.querySelector('#df-ead8826a-d4a9-4162-868f-5fddba2d2e9b button.colab-df-convert');\n",
              "        buttonEl.style.display =\n",
              "          google.colab.kernel.accessAllowed ? 'block' : 'none';\n",
              "\n",
              "        async function convertToInteractive(key) {\n",
              "          const element = document.querySelector('#df-ead8826a-d4a9-4162-868f-5fddba2d2e9b');\n",
              "          const dataTable =\n",
              "            await google.colab.kernel.invokeFunction('convertToInteractive',\n",
              "                                                     [key], {});\n",
              "          if (!dataTable) return;\n",
              "\n",
              "          const docLinkHtml = 'Like what you see? Visit the ' +\n",
              "            '<a target=\"_blank\" href=https://colab.research.google.com/notebooks/data_table.ipynb>data table notebook</a>'\n",
              "            + ' to learn more about interactive tables.';\n",
              "          element.innerHTML = '';\n",
              "          dataTable['output_type'] = 'display_data';\n",
              "          await google.colab.output.renderOutput(dataTable, element);\n",
              "          const docLink = document.createElement('div');\n",
              "          docLink.innerHTML = docLinkHtml;\n",
              "          element.appendChild(docLink);\n",
              "        }\n",
              "      </script>\n",
              "    </div>\n",
              "  </div>\n",
              "  "
            ]
          },
          "metadata": {},
          "execution_count": 3
        }
      ]
    },
    {
      "cell_type": "code",
      "source": [
        "data=df.copy()\n",
        "data.describe()"
      ],
      "metadata": {
        "colab": {
          "base_uri": "https://localhost:8080/",
          "height": 300
        },
        "id": "RExr1V-jC67E",
        "outputId": "d55faf11-3219-42df-cc76-ce918b13f3c3"
      },
      "execution_count": null,
      "outputs": [
        {
          "output_type": "execute_result",
          "data": {
            "text/plain": [
              "        reviews.id  reviews.numHelpful  reviews.rating  reviews.userCity  \\\n",
              "count          1.0        34131.000000    34627.000000               0.0   \n",
              "mean   111372787.0            0.630248        4.584573               NaN   \n",
              "std            NaN           13.215775        0.735653               NaN   \n",
              "min    111372787.0            0.000000        1.000000               NaN   \n",
              "25%    111372787.0            0.000000        4.000000               NaN   \n",
              "50%    111372787.0            0.000000        5.000000               NaN   \n",
              "75%    111372787.0            0.000000        5.000000               NaN   \n",
              "max    111372787.0          814.000000        5.000000               NaN   \n",
              "\n",
              "       reviews.userProvince  \n",
              "count                   0.0  \n",
              "mean                    NaN  \n",
              "std                     NaN  \n",
              "min                     NaN  \n",
              "25%                     NaN  \n",
              "50%                     NaN  \n",
              "75%                     NaN  \n",
              "max                     NaN  "
            ],
            "text/html": [
              "\n",
              "  <div id=\"df-a77ebb17-243c-4574-89f8-f713a320dcf0\">\n",
              "    <div class=\"colab-df-container\">\n",
              "      <div>\n",
              "<style scoped>\n",
              "    .dataframe tbody tr th:only-of-type {\n",
              "        vertical-align: middle;\n",
              "    }\n",
              "\n",
              "    .dataframe tbody tr th {\n",
              "        vertical-align: top;\n",
              "    }\n",
              "\n",
              "    .dataframe thead th {\n",
              "        text-align: right;\n",
              "    }\n",
              "</style>\n",
              "<table border=\"1\" class=\"dataframe\">\n",
              "  <thead>\n",
              "    <tr style=\"text-align: right;\">\n",
              "      <th></th>\n",
              "      <th>reviews.id</th>\n",
              "      <th>reviews.numHelpful</th>\n",
              "      <th>reviews.rating</th>\n",
              "      <th>reviews.userCity</th>\n",
              "      <th>reviews.userProvince</th>\n",
              "    </tr>\n",
              "  </thead>\n",
              "  <tbody>\n",
              "    <tr>\n",
              "      <th>count</th>\n",
              "      <td>1.0</td>\n",
              "      <td>34131.000000</td>\n",
              "      <td>34627.000000</td>\n",
              "      <td>0.0</td>\n",
              "      <td>0.0</td>\n",
              "    </tr>\n",
              "    <tr>\n",
              "      <th>mean</th>\n",
              "      <td>111372787.0</td>\n",
              "      <td>0.630248</td>\n",
              "      <td>4.584573</td>\n",
              "      <td>NaN</td>\n",
              "      <td>NaN</td>\n",
              "    </tr>\n",
              "    <tr>\n",
              "      <th>std</th>\n",
              "      <td>NaN</td>\n",
              "      <td>13.215775</td>\n",
              "      <td>0.735653</td>\n",
              "      <td>NaN</td>\n",
              "      <td>NaN</td>\n",
              "    </tr>\n",
              "    <tr>\n",
              "      <th>min</th>\n",
              "      <td>111372787.0</td>\n",
              "      <td>0.000000</td>\n",
              "      <td>1.000000</td>\n",
              "      <td>NaN</td>\n",
              "      <td>NaN</td>\n",
              "    </tr>\n",
              "    <tr>\n",
              "      <th>25%</th>\n",
              "      <td>111372787.0</td>\n",
              "      <td>0.000000</td>\n",
              "      <td>4.000000</td>\n",
              "      <td>NaN</td>\n",
              "      <td>NaN</td>\n",
              "    </tr>\n",
              "    <tr>\n",
              "      <th>50%</th>\n",
              "      <td>111372787.0</td>\n",
              "      <td>0.000000</td>\n",
              "      <td>5.000000</td>\n",
              "      <td>NaN</td>\n",
              "      <td>NaN</td>\n",
              "    </tr>\n",
              "    <tr>\n",
              "      <th>75%</th>\n",
              "      <td>111372787.0</td>\n",
              "      <td>0.000000</td>\n",
              "      <td>5.000000</td>\n",
              "      <td>NaN</td>\n",
              "      <td>NaN</td>\n",
              "    </tr>\n",
              "    <tr>\n",
              "      <th>max</th>\n",
              "      <td>111372787.0</td>\n",
              "      <td>814.000000</td>\n",
              "      <td>5.000000</td>\n",
              "      <td>NaN</td>\n",
              "      <td>NaN</td>\n",
              "    </tr>\n",
              "  </tbody>\n",
              "</table>\n",
              "</div>\n",
              "      <button class=\"colab-df-convert\" onclick=\"convertToInteractive('df-a77ebb17-243c-4574-89f8-f713a320dcf0')\"\n",
              "              title=\"Convert this dataframe to an interactive table.\"\n",
              "              style=\"display:none;\">\n",
              "        \n",
              "  <svg xmlns=\"http://www.w3.org/2000/svg\" height=\"24px\"viewBox=\"0 0 24 24\"\n",
              "       width=\"24px\">\n",
              "    <path d=\"M0 0h24v24H0V0z\" fill=\"none\"/>\n",
              "    <path d=\"M18.56 5.44l.94 2.06.94-2.06 2.06-.94-2.06-.94-.94-2.06-.94 2.06-2.06.94zm-11 1L8.5 8.5l.94-2.06 2.06-.94-2.06-.94L8.5 2.5l-.94 2.06-2.06.94zm10 10l.94 2.06.94-2.06 2.06-.94-2.06-.94-.94-2.06-.94 2.06-2.06.94z\"/><path d=\"M17.41 7.96l-1.37-1.37c-.4-.4-.92-.59-1.43-.59-.52 0-1.04.2-1.43.59L10.3 9.45l-7.72 7.72c-.78.78-.78 2.05 0 2.83L4 21.41c.39.39.9.59 1.41.59.51 0 1.02-.2 1.41-.59l7.78-7.78 2.81-2.81c.8-.78.8-2.07 0-2.86zM5.41 20L4 18.59l7.72-7.72 1.47 1.35L5.41 20z\"/>\n",
              "  </svg>\n",
              "      </button>\n",
              "      \n",
              "  <style>\n",
              "    .colab-df-container {\n",
              "      display:flex;\n",
              "      flex-wrap:wrap;\n",
              "      gap: 12px;\n",
              "    }\n",
              "\n",
              "    .colab-df-convert {\n",
              "      background-color: #E8F0FE;\n",
              "      border: none;\n",
              "      border-radius: 50%;\n",
              "      cursor: pointer;\n",
              "      display: none;\n",
              "      fill: #1967D2;\n",
              "      height: 32px;\n",
              "      padding: 0 0 0 0;\n",
              "      width: 32px;\n",
              "    }\n",
              "\n",
              "    .colab-df-convert:hover {\n",
              "      background-color: #E2EBFA;\n",
              "      box-shadow: 0px 1px 2px rgba(60, 64, 67, 0.3), 0px 1px 3px 1px rgba(60, 64, 67, 0.15);\n",
              "      fill: #174EA6;\n",
              "    }\n",
              "\n",
              "    [theme=dark] .colab-df-convert {\n",
              "      background-color: #3B4455;\n",
              "      fill: #D2E3FC;\n",
              "    }\n",
              "\n",
              "    [theme=dark] .colab-df-convert:hover {\n",
              "      background-color: #434B5C;\n",
              "      box-shadow: 0px 1px 3px 1px rgba(0, 0, 0, 0.15);\n",
              "      filter: drop-shadow(0px 1px 2px rgba(0, 0, 0, 0.3));\n",
              "      fill: #FFFFFF;\n",
              "    }\n",
              "  </style>\n",
              "\n",
              "      <script>\n",
              "        const buttonEl =\n",
              "          document.querySelector('#df-a77ebb17-243c-4574-89f8-f713a320dcf0 button.colab-df-convert');\n",
              "        buttonEl.style.display =\n",
              "          google.colab.kernel.accessAllowed ? 'block' : 'none';\n",
              "\n",
              "        async function convertToInteractive(key) {\n",
              "          const element = document.querySelector('#df-a77ebb17-243c-4574-89f8-f713a320dcf0');\n",
              "          const dataTable =\n",
              "            await google.colab.kernel.invokeFunction('convertToInteractive',\n",
              "                                                     [key], {});\n",
              "          if (!dataTable) return;\n",
              "\n",
              "          const docLinkHtml = 'Like what you see? Visit the ' +\n",
              "            '<a target=\"_blank\" href=https://colab.research.google.com/notebooks/data_table.ipynb>data table notebook</a>'\n",
              "            + ' to learn more about interactive tables.';\n",
              "          element.innerHTML = '';\n",
              "          dataTable['output_type'] = 'display_data';\n",
              "          await google.colab.output.renderOutput(dataTable, element);\n",
              "          const docLink = document.createElement('div');\n",
              "          docLink.innerHTML = docLinkHtml;\n",
              "          element.appendChild(docLink);\n",
              "        }\n",
              "      </script>\n",
              "    </div>\n",
              "  </div>\n",
              "  "
            ]
          },
          "metadata": {},
          "execution_count": 4
        }
      ]
    },
    {
      "cell_type": "code",
      "source": [
        "data.info()"
      ],
      "metadata": {
        "colab": {
          "base_uri": "https://localhost:8080/"
        },
        "id": "-y2rwedYDDTy",
        "outputId": "e022a24e-7c89-4a86-b84f-c76925ebc23e"
      },
      "execution_count": null,
      "outputs": [
        {
          "output_type": "stream",
          "name": "stdout",
          "text": [
            "<class 'pandas.core.frame.DataFrame'>\n",
            "RangeIndex: 34660 entries, 0 to 34659\n",
            "Data columns (total 21 columns):\n",
            " #   Column                Non-Null Count  Dtype  \n",
            "---  ------                --------------  -----  \n",
            " 0   id                    34660 non-null  object \n",
            " 1   name                  27900 non-null  object \n",
            " 2   asins                 34658 non-null  object \n",
            " 3   brand                 34660 non-null  object \n",
            " 4   categories            34660 non-null  object \n",
            " 5   keys                  34660 non-null  object \n",
            " 6   manufacturer          34660 non-null  object \n",
            " 7   reviews.date          34621 non-null  object \n",
            " 8   reviews.dateAdded     24039 non-null  object \n",
            " 9   reviews.dateSeen      34660 non-null  object \n",
            " 10  reviews.didPurchase   1 non-null      object \n",
            " 11  reviews.doRecommend   34066 non-null  object \n",
            " 12  reviews.id            1 non-null      float64\n",
            " 13  reviews.numHelpful    34131 non-null  float64\n",
            " 14  reviews.rating        34627 non-null  float64\n",
            " 15  reviews.sourceURLs    34660 non-null  object \n",
            " 16  reviews.text          34659 non-null  object \n",
            " 17  reviews.title         34655 non-null  object \n",
            " 18  reviews.userCity      0 non-null      float64\n",
            " 19  reviews.userProvince  0 non-null      float64\n",
            " 20  reviews.username      34658 non-null  object \n",
            "dtypes: float64(5), object(16)\n",
            "memory usage: 5.6+ MB\n"
          ]
        }
      ]
    },
    {
      "cell_type": "code",
      "source": [
        "#To convert string to integer type\n",
        "\n",
        "from sklearn.model_selection import StratifiedShuffleSplit\n",
        "print(\"Before {}\".format(len(data)))\n",
        "dataAfter = data.dropna(subset=[\"reviews.rating\"]) # removes all NAN in reviews.rating\n",
        "print(\"After {}\".format(len(dataAfter)))\n",
        "dataAfter[\"reviews.rating\"] = dataAfter[\"reviews.rating\"].astype(int)"
      ],
      "metadata": {
        "colab": {
          "base_uri": "https://localhost:8080/"
        },
        "id": "jIP-pMdmDO27",
        "outputId": "a0e1fd44-2557-4b71-8746-b5dc6b3f5472"
      },
      "execution_count": null,
      "outputs": [
        {
          "output_type": "stream",
          "name": "stdout",
          "text": [
            "Before 34660\n",
            "After 34627\n"
          ]
        },
        {
          "output_type": "stream",
          "name": "stderr",
          "text": [
            "/usr/local/lib/python3.7/dist-packages/ipykernel_launcher.py:7: SettingWithCopyWarning: \n",
            "A value is trying to be set on a copy of a slice from a DataFrame.\n",
            "Try using .loc[row_indexer,col_indexer] = value instead\n",
            "\n",
            "See the caveats in the documentation: https://pandas.pydata.org/pandas-docs/stable/user_guide/indexing.html#returning-a-view-versus-a-copy\n",
            "  import sys\n"
          ]
        }
      ]
    },
    {
      "cell_type": "code",
      "source": [
        "#splitting dataset data into train and test set\n",
        "\n",
        "split = StratifiedShuffleSplit(n_splits=5, test_size=0.4)\n",
        "for train_index, test_index in split.split(dataAfter, dataAfter[\"reviews.rating\"]):\n",
        "    strat_train = dataAfter.reindex(train_index)\n",
        "    strat_test = dataAfter.reindex(test_index)"
      ],
      "metadata": {
        "id": "EcNLsRkRDWov"
      },
      "execution_count": null,
      "outputs": []
    },
    {
      "cell_type": "code",
      "source": [
        "#to check the size of train and test\n",
        "\n",
        "len(strat_train)\n"
      ],
      "metadata": {
        "colab": {
          "base_uri": "https://localhost:8080/"
        },
        "id": "ni8d1ebADllJ",
        "outputId": "698b9a6f-6863-4919-ef33-21ff22fda204"
      },
      "execution_count": null,
      "outputs": [
        {
          "output_type": "execute_result",
          "data": {
            "text/plain": [
              "20776"
            ]
          },
          "metadata": {},
          "execution_count": 8
        }
      ]
    },
    {
      "cell_type": "code",
      "source": [
        "len(strat_test)"
      ],
      "metadata": {
        "colab": {
          "base_uri": "https://localhost:8080/"
        },
        "id": "1Viz1viwD6nZ",
        "outputId": "9665b384-24f8-48f6-d9e8-ec25a0ce9bbb"
      },
      "execution_count": null,
      "outputs": [
        {
          "output_type": "execute_result",
          "data": {
            "text/plain": [
              "13851"
            ]
          },
          "metadata": {},
          "execution_count": 9
        }
      ]
    },
    {
      "cell_type": "code",
      "source": [
        "#to do sentiment analysis on customer ratings\n",
        "\n",
        "\n",
        "def sentiments(rating):\n",
        "    if (rating == 5) or (rating == 4):\n",
        "        return \"Positive\"\n",
        "    elif rating == 3:\n",
        "        return \"Neutral\"\n",
        "    elif (rating == 2) or (rating == 1):\n",
        "        return \"Negative\"\n",
        "# Add sentiments to the data\n",
        "strat_train[\"Sentiment\"] = strat_train[\"reviews.rating\"].apply(sentiments)\n",
        "strat_test[\"Sentiment\"] = strat_test[\"reviews.rating\"].apply(sentiments)\n",
        "strat_train[\"Sentiment\"][:20]"
      ],
      "metadata": {
        "colab": {
          "base_uri": "https://localhost:8080/"
        },
        "id": "dyFKZ1zrD8UL",
        "outputId": "c1e9fdde-3c10-4fc6-c8b0-382b939611e6"
      },
      "execution_count": null,
      "outputs": [
        {
          "output_type": "execute_result",
          "data": {
            "text/plain": [
              "29141    Positive\n",
              "8645     Positive\n",
              "16571    Positive\n",
              "13188     Neutral\n",
              "8120     Positive\n",
              "2386     Positive\n",
              "5813     Positive\n",
              "21769    Positive\n",
              "31602    Positive\n",
              "14327    Positive\n",
              "5230     Positive\n",
              "28843    Positive\n",
              "27400    Positive\n",
              "143      Positive\n",
              "8247     Positive\n",
              "33233    Positive\n",
              "3322     Positive\n",
              "14139    Positive\n",
              "15314     Neutral\n",
              "10030    Positive\n",
              "Name: Sentiment, dtype: object"
            ]
          },
          "metadata": {},
          "execution_count": 10
        }
      ]
    },
    {
      "cell_type": "code",
      "source": [
        "# Prepare data\n",
        "X_train = strat_train[\"reviews.text\"]\n",
        "X_train_targetSentiment = strat_train[\"Sentiment\"]\n",
        "X_test = strat_test[\"reviews.text\"]\n",
        "X_test_targetSentiment = strat_test[\"Sentiment\"]\n",
        "print(len(X_train), len(X_test))"
      ],
      "metadata": {
        "colab": {
          "base_uri": "https://localhost:8080/"
        },
        "id": "wJ2AHHZBEM3T",
        "outputId": "0eed5b24-276d-4b42-a1cd-e2bf657d866b"
      },
      "execution_count": null,
      "outputs": [
        {
          "output_type": "stream",
          "name": "stdout",
          "text": [
            "20776 13851\n"
          ]
        }
      ]
    },
    {
      "cell_type": "code",
      "source": [
        "#Replacing Empty column data in the dataset with space\n",
        "X_train = X_train.fillna(' ')\n",
        "X_test = X_test.fillna(' ')\n",
        "X_train_targetSentiment = X_train_targetSentiment.fillna(' ')\n",
        "X_test_targetSentiment = X_test_targetSentiment.fillna(' ')"
      ],
      "metadata": {
        "id": "5g0m6N-jESIU"
      },
      "execution_count": null,
      "outputs": []
    },
    {
      "cell_type": "code",
      "source": [
        "#Text PreProcessing in the dataset\n",
        "from sklearn.feature_extraction.text import CountVectorizer\n",
        "count_vect = CountVectorizer()\n",
        "X_train_counts = count_vect.fit_transform(X_train)\n",
        "X_train_counts.shape"
      ],
      "metadata": {
        "colab": {
          "base_uri": "https://localhost:8080/"
        },
        "id": "GrjGd6M7Ebup",
        "outputId": "8ddcdd24-896a-49e0-f35a-42959ace3d1b"
      },
      "execution_count": null,
      "outputs": [
        {
          "output_type": "execute_result",
          "data": {
            "text/plain": [
              "(20776, 11076)"
            ]
          },
          "metadata": {},
          "execution_count": 13
        }
      ]
    },
    {
      "cell_type": "code",
      "source": [
        "#Term Frequency Operations\n",
        "\n",
        "from sklearn.feature_extraction.text import TfidfTransformer\n",
        "tfidf_transformer = TfidfTransformer(use_idf=False)\n",
        "X_train_tfidf = tfidf_transformer.fit_transform(X_train_counts)\n",
        "X_train_tfidf.shape"
      ],
      "metadata": {
        "colab": {
          "base_uri": "https://localhost:8080/"
        },
        "id": "I3nXFc4PEidP",
        "outputId": "fe899c80-51ad-46d7-8819-5916372bfd71"
      },
      "execution_count": null,
      "outputs": [
        {
          "output_type": "execute_result",
          "data": {
            "text/plain": [
              "(20776, 11076)"
            ]
          },
          "metadata": {},
          "execution_count": 14
        }
      ]
    },
    {
      "cell_type": "code",
      "source": [
        "#Logistic Regression Algorithm\n",
        "\n",
        "\n",
        "from sklearn.linear_model import LogisticRegression\n",
        "from sklearn.pipeline import Pipeline\n",
        "clf_logReg_pipe = Pipeline([(\"vect\", CountVectorizer()), (\"tfidf\", TfidfTransformer()), (\"clf_logReg\", LogisticRegression())])\n",
        "clf_logReg_pipe.fit(X_train, X_train_targetSentiment)\n",
        "\n",
        "import numpy as np\n",
        "predictedLogReg = clf_logReg_pipe.predict(X_test)\n",
        "np.mean(predictedLogReg == X_test_targetSentiment)"
      ],
      "metadata": {
        "colab": {
          "base_uri": "https://localhost:8080/"
        },
        "id": "YDTJnMSKEohG",
        "outputId": "e5aa4b60-6d84-45c1-e518-4c2772e5ea97"
      },
      "execution_count": null,
      "outputs": [
        {
          "output_type": "stream",
          "name": "stderr",
          "text": [
            "/usr/local/lib/python3.7/dist-packages/sklearn/linear_model/_logistic.py:818: ConvergenceWarning: lbfgs failed to converge (status=1):\n",
            "STOP: TOTAL NO. of ITERATIONS REACHED LIMIT.\n",
            "\n",
            "Increase the number of iterations (max_iter) or scale the data as shown in:\n",
            "    https://scikit-learn.org/stable/modules/preprocessing.html\n",
            "Please also refer to the documentation for alternative solver options:\n",
            "    https://scikit-learn.org/stable/modules/linear_model.html#logistic-regression\n",
            "  extra_warning_msg=_LOGISTIC_SOLVER_CONVERGENCE_MSG,\n"
          ]
        },
        {
          "output_type": "execute_result",
          "data": {
            "text/plain": [
              "0.934661757273843"
            ]
          },
          "metadata": {},
          "execution_count": 15
        }
      ]
    },
    {
      "cell_type": "code",
      "source": [
        "#AdaBoostClassifier Algorithm\n",
        "\n",
        "import numpy as np\n",
        "from sklearn.ensemble import AdaBoostClassifier\n",
        "from sklearn.pipeline import Pipeline\n",
        "clf_Ada_pipe = Pipeline([(\"vect\", CountVectorizer()), (\"tfidf\", TfidfTransformer()), (\"clf_Ada\", AdaBoostClassifier())])\n",
        "clf_Ada_pipe.fit(X_train, X_train_targetSentiment)\n",
        "\n",
        "predictedAda = clf_Ada_pipe.predict(X_test)\n",
        "np.mean(predictedAda == X_test_targetSentiment)"
      ],
      "metadata": {
        "colab": {
          "base_uri": "https://localhost:8080/"
        },
        "id": "xDtEpaa-8-Pd",
        "outputId": "f1becdae-1bca-4cc3-9147-cefdf7dc4b48"
      },
      "execution_count": null,
      "outputs": [
        {
          "output_type": "execute_result",
          "data": {
            "text/plain": [
              "0.3384593170168219"
            ]
          },
          "metadata": {},
          "execution_count": 16
        }
      ]
    },
    {
      "cell_type": "code",
      "source": [
        "#DecisionTreeClassifier Algorithm\n",
        "\n",
        "from sklearn.tree import DecisionTreeClassifier\n",
        "clf_decisionTree_pipe = Pipeline([(\"vect\", CountVectorizer()), (\"tfidf\", TfidfTransformer()),\n",
        "                                  (\"clf_decisionTree\", DecisionTreeClassifier())])\n",
        "res=clf_decisionTree_pipe.fit(X_train, X_train_targetSentiment)\n",
        "\n",
        "predictedDecisionTree = clf_decisionTree_pipe.predict(X_test)\n",
        "np.mean(predictedDecisionTree == X_test_targetSentiment)"
      ],
      "metadata": {
        "colab": {
          "base_uri": "https://localhost:8080/"
        },
        "id": "9ipRrVj99UGr",
        "outputId": "a0328463-397c-4b70-ed19-b0f0abaec096"
      },
      "execution_count": null,
      "outputs": [
        {
          "output_type": "execute_result",
          "data": {
            "text/plain": [
              "0.8969749476572089"
            ]
          },
          "metadata": {},
          "execution_count": 28
        }
      ]
    },
    {
      "cell_type": "code",
      "source": [
        "!pip install dtreeviz"
      ],
      "metadata": {
        "colab": {
          "base_uri": "https://localhost:8080/"
        },
        "id": "JZZkWCupATTY",
        "outputId": "89012489-c946-4179-aaac-94496c37763d"
      },
      "execution_count": null,
      "outputs": [
        {
          "output_type": "stream",
          "name": "stdout",
          "text": [
            "Requirement already satisfied: dtreeviz in /usr/local/lib/python3.7/dist-packages (1.3.6)\n",
            "Requirement already satisfied: matplotlib in /usr/local/lib/python3.7/dist-packages (from dtreeviz) (3.2.2)\n",
            "Requirement already satisfied: pytest in /usr/local/lib/python3.7/dist-packages (from dtreeviz) (3.6.4)\n",
            "Requirement already satisfied: numpy in /usr/local/lib/python3.7/dist-packages (from dtreeviz) (1.21.6)\n",
            "Requirement already satisfied: pandas in /usr/local/lib/python3.7/dist-packages (from dtreeviz) (1.3.5)\n",
            "Requirement already satisfied: scikit-learn in /usr/local/lib/python3.7/dist-packages (from dtreeviz) (1.0.2)\n",
            "Requirement already satisfied: colour in /usr/local/lib/python3.7/dist-packages (from dtreeviz) (0.1.5)\n",
            "Requirement already satisfied: graphviz>=0.9 in /usr/local/lib/python3.7/dist-packages (from dtreeviz) (0.10.1)\n",
            "Requirement already satisfied: cycler>=0.10 in /usr/local/lib/python3.7/dist-packages (from matplotlib->dtreeviz) (0.11.0)\n",
            "Requirement already satisfied: kiwisolver>=1.0.1 in /usr/local/lib/python3.7/dist-packages (from matplotlib->dtreeviz) (1.4.2)\n",
            "Requirement already satisfied: pyparsing!=2.0.4,!=2.1.2,!=2.1.6,>=2.0.1 in /usr/local/lib/python3.7/dist-packages (from matplotlib->dtreeviz) (3.0.8)\n",
            "Requirement already satisfied: python-dateutil>=2.1 in /usr/local/lib/python3.7/dist-packages (from matplotlib->dtreeviz) (2.8.2)\n",
            "Requirement already satisfied: typing-extensions in /usr/local/lib/python3.7/dist-packages (from kiwisolver>=1.0.1->matplotlib->dtreeviz) (4.2.0)\n",
            "Requirement already satisfied: six>=1.5 in /usr/local/lib/python3.7/dist-packages (from python-dateutil>=2.1->matplotlib->dtreeviz) (1.15.0)\n",
            "Requirement already satisfied: pytz>=2017.3 in /usr/local/lib/python3.7/dist-packages (from pandas->dtreeviz) (2022.1)\n",
            "Requirement already satisfied: more-itertools>=4.0.0 in /usr/local/lib/python3.7/dist-packages (from pytest->dtreeviz) (8.12.0)\n",
            "Requirement already satisfied: py>=1.5.0 in /usr/local/lib/python3.7/dist-packages (from pytest->dtreeviz) (1.11.0)\n",
            "Requirement already satisfied: setuptools in /usr/local/lib/python3.7/dist-packages (from pytest->dtreeviz) (57.4.0)\n",
            "Requirement already satisfied: atomicwrites>=1.0 in /usr/local/lib/python3.7/dist-packages (from pytest->dtreeviz) (1.4.0)\n",
            "Requirement already satisfied: pluggy<0.8,>=0.5 in /usr/local/lib/python3.7/dist-packages (from pytest->dtreeviz) (0.7.1)\n",
            "Requirement already satisfied: attrs>=17.4.0 in /usr/local/lib/python3.7/dist-packages (from pytest->dtreeviz) (21.4.0)\n",
            "Requirement already satisfied: threadpoolctl>=2.0.0 in /usr/local/lib/python3.7/dist-packages (from scikit-learn->dtreeviz) (3.1.0)\n",
            "Requirement already satisfied: joblib>=0.11 in /usr/local/lib/python3.7/dist-packages (from scikit-learn->dtreeviz) (1.1.0)\n",
            "Requirement already satisfied: scipy>=1.1.0 in /usr/local/lib/python3.7/dist-packages (from scikit-learn->dtreeviz) (1.4.1)\n"
          ]
        }
      ]
    },
    {
      "cell_type": "code",
      "source": [
        "#import sys\n",
        "#print(sys.getrecursionlimit())\n",
        "sys.setrecursionlimit(1500)"
      ],
      "metadata": {
        "id": "ke-R4gVMBMZ6"
      },
      "execution_count": null,
      "outputs": []
    },
    {
      "cell_type": "code",
      "source": [
        "from sklearn import tree\n",
        "import matplotlib.pyplot as plt\n",
        "fig = plt.figure(figsize=(10,10))\n",
        "tree.plot_tree(clf_decisionTree_pipe[\"clf_decisionTree\"],filled=True);"
      ],
      "metadata": {
        "colab": {
          "base_uri": "https://localhost:8080/",
          "height": 578
        },
        "id": "r5VTxAU0BLGN",
        "outputId": "db7795f8-472f-497e-a105-11f9f9d667c4"
      },
      "execution_count": null,
      "outputs": [
        {
          "output_type": "display_data",
          "data": {
            "text/plain": [
              "<Figure size 720x720 with 1 Axes>"
            ],
            "image/png": "[encoded data removed]"
          },
          "metadata": {
            "needs_background": "light"
          }
        }
      ]
    },
    {
      "cell_type": "markdown",
      "source": [
        "Here Comparing the all Accuracy that Logistic Regression has High comapring to Decision Tree , SVM , and XDA Boost Classifier.\n",
        "\n",
        "Here AdaBoost Classifier model is getting very low accuracy.\n",
        "\n",
        "**All Model Accuracy as Follows:**\n",
        "\n",
        "   LOGISTIC REGRESSION - 0.934661757273843 Approx ~ 93.46 %   \n",
        "   ADABOOST CLASSIFIER - 0.3384593170168219 Approx ~ 33.84 %\n",
        "   DECISION TREE CLASSIFIER - 0.8969749476572089 Approx ~ 89.70 %\n",
        "   SUPPORT VECTOR MACHINE - 0.9324958486751859 Approx ~ 93.24 %\n",
        "   GRADIENT BOOST CLASSIFIER - 0.9277308497581402 Approx ~ 92.77 %\n",
        "   XDA BOOST CLASSIFIER - 0.9301133492166631 Approx ~ 93.01 %"
      ],
      "metadata": {
        "id": "dIVwARWhLhh5"
      }
    }
  ]
}